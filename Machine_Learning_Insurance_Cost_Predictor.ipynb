{
  "nbformat": 4,
  "nbformat_minor": 0,
  "metadata": {
    "colab": {
      "provenance": [],
      "authorship_tag": "ABX9TyM5/MfVsgmIF0hSsgwSNCpk",
      "include_colab_link": true
    },
    "kernelspec": {
      "name": "python3",
      "display_name": "Python 3"
    },
    "language_info": {
      "name": "python"
    }
  },
  "cells": [
    {
      "cell_type": "markdown",
      "metadata": {
        "id": "view-in-github",
        "colab_type": "text"
      },
      "source": [
        "<a href=\"https://colab.research.google.com/github/Patarakorn/Health-Insurance-Cost-Predictor/blob/main/Machine_Learning_Insurance_Cost_Predictor.ipynb\" target=\"_parent\"><img src=\"https://colab.research.google.com/assets/colab-badge.svg\" alt=\"Open In Colab\"/></a>"
      ]
    },
    {
      "cell_type": "markdown",
      "source": [
        "**Importing the Dependencies**"
      ],
      "metadata": {
        "id": "V1rmz_WTX1Y_"
      }
    },
    {
      "cell_type": "code",
      "source": [
        "import numpy as np\n",
        "import pandas as pd\n",
        "import matplotlib.pyplot as plt\n",
        "import seaborn as sns\n",
        "from sklearn.model_selection import train_test_split\n",
        "from sklearn.linear_model import LinearRegression\n",
        "from sklearn import metrics\n",
        "from sklearn.metrics import mean_squared_error, r2_score\n",
        "from sklearn.linear_model import Ridge\n",
        "from sklearn.linear_model import Lasso\n",
        "from sklearn.ensemble import RandomForestRegressor\n",
        "from sklearn.svm import SVR\n",
        "from sklearn. ensemble import GradientBoostingRegressor\n",
        "import pickle"
      ],
      "metadata": {
        "id": "9623OqHkX1AA"
      },
      "execution_count": null,
      "outputs": []
    },
    {
      "cell_type": "markdown",
      "source": [
        "**Importing and Describing the Dataset**"
      ],
      "metadata": {
        "id": "Y65lAgZKOinp"
      }
    },
    {
      "cell_type": "code",
      "execution_count": null,
      "metadata": {
        "id": "lJoBIZ_lN7Nq"
      },
      "outputs": [],
      "source": [
        "# loading the data from csv file to a Pandas DataFrame\n",
        "insurance_dataset = pd.read_csv('/content/Train_Data.csv')"
      ]
    },
    {
      "cell_type": "code",
      "source": [
        "# first 5 rows of the dataframe\n",
        "insurance_dataset.head()"
      ],
      "metadata": {
        "colab": {
          "base_uri": "https://localhost:8080/",
          "height": 206
        },
        "id": "2wujJOIuPow5",
        "outputId": "1d89db4e-05c7-4205-b4f0-6c8bf1d79587"
      },
      "execution_count": null,
      "outputs": [
        {
          "output_type": "execute_result",
          "data": {
            "text/plain": [
              "         age     sex        bmi smoker     region  children       charges\n",
              "0  21.000000    male  25.745000     no  northeast         2   3279.868550\n",
              "1  36.976978  female  25.744165    yes  southeast         3  21454.494239\n",
              "2  18.000000    male  30.030000     no  southeast         1   1720.353700\n",
              "3  37.000000    male  30.676891     no  northeast         3   6801.437542\n",
              "4  58.000000    male  32.010000     no  southeast         1  11946.625900"
            ],
            "text/html": [
              "\n",
              "  <div id=\"df-d687e9e0-1108-4ab6-8d64-c3c954b1cee9\">\n",
              "    <div class=\"colab-df-container\">\n",
              "      <div>\n",
              "<style scoped>\n",
              "    .dataframe tbody tr th:only-of-type {\n",
              "        vertical-align: middle;\n",
              "    }\n",
              "\n",
              "    .dataframe tbody tr th {\n",
              "        vertical-align: top;\n",
              "    }\n",
              "\n",
              "    .dataframe thead th {\n",
              "        text-align: right;\n",
              "    }\n",
              "</style>\n",
              "<table border=\"1\" class=\"dataframe\">\n",
              "  <thead>\n",
              "    <tr style=\"text-align: right;\">\n",
              "      <th></th>\n",
              "      <th>age</th>\n",
              "      <th>sex</th>\n",
              "      <th>bmi</th>\n",
              "      <th>smoker</th>\n",
              "      <th>region</th>\n",
              "      <th>children</th>\n",
              "      <th>charges</th>\n",
              "    </tr>\n",
              "  </thead>\n",
              "  <tbody>\n",
              "    <tr>\n",
              "      <th>0</th>\n",
              "      <td>21.000000</td>\n",
              "      <td>male</td>\n",
              "      <td>25.745000</td>\n",
              "      <td>no</td>\n",
              "      <td>northeast</td>\n",
              "      <td>2</td>\n",
              "      <td>3279.868550</td>\n",
              "    </tr>\n",
              "    <tr>\n",
              "      <th>1</th>\n",
              "      <td>36.976978</td>\n",
              "      <td>female</td>\n",
              "      <td>25.744165</td>\n",
              "      <td>yes</td>\n",
              "      <td>southeast</td>\n",
              "      <td>3</td>\n",
              "      <td>21454.494239</td>\n",
              "    </tr>\n",
              "    <tr>\n",
              "      <th>2</th>\n",
              "      <td>18.000000</td>\n",
              "      <td>male</td>\n",
              "      <td>30.030000</td>\n",
              "      <td>no</td>\n",
              "      <td>southeast</td>\n",
              "      <td>1</td>\n",
              "      <td>1720.353700</td>\n",
              "    </tr>\n",
              "    <tr>\n",
              "      <th>3</th>\n",
              "      <td>37.000000</td>\n",
              "      <td>male</td>\n",
              "      <td>30.676891</td>\n",
              "      <td>no</td>\n",
              "      <td>northeast</td>\n",
              "      <td>3</td>\n",
              "      <td>6801.437542</td>\n",
              "    </tr>\n",
              "    <tr>\n",
              "      <th>4</th>\n",
              "      <td>58.000000</td>\n",
              "      <td>male</td>\n",
              "      <td>32.010000</td>\n",
              "      <td>no</td>\n",
              "      <td>southeast</td>\n",
              "      <td>1</td>\n",
              "      <td>11946.625900</td>\n",
              "    </tr>\n",
              "  </tbody>\n",
              "</table>\n",
              "</div>\n",
              "      <button class=\"colab-df-convert\" onclick=\"convertToInteractive('df-d687e9e0-1108-4ab6-8d64-c3c954b1cee9')\"\n",
              "              title=\"Convert this dataframe to an interactive table.\"\n",
              "              style=\"display:none;\">\n",
              "        \n",
              "  <svg xmlns=\"http://www.w3.org/2000/svg\" height=\"24px\"viewBox=\"0 0 24 24\"\n",
              "       width=\"24px\">\n",
              "    <path d=\"M0 0h24v24H0V0z\" fill=\"none\"/>\n",
              "    <path d=\"M18.56 5.44l.94 2.06.94-2.06 2.06-.94-2.06-.94-.94-2.06-.94 2.06-2.06.94zm-11 1L8.5 8.5l.94-2.06 2.06-.94-2.06-.94L8.5 2.5l-.94 2.06-2.06.94zm10 10l.94 2.06.94-2.06 2.06-.94-2.06-.94-.94-2.06-.94 2.06-2.06.94z\"/><path d=\"M17.41 7.96l-1.37-1.37c-.4-.4-.92-.59-1.43-.59-.52 0-1.04.2-1.43.59L10.3 9.45l-7.72 7.72c-.78.78-.78 2.05 0 2.83L4 21.41c.39.39.9.59 1.41.59.51 0 1.02-.2 1.41-.59l7.78-7.78 2.81-2.81c.8-.78.8-2.07 0-2.86zM5.41 20L4 18.59l7.72-7.72 1.47 1.35L5.41 20z\"/>\n",
              "  </svg>\n",
              "      </button>\n",
              "      \n",
              "  <style>\n",
              "    .colab-df-container {\n",
              "      display:flex;\n",
              "      flex-wrap:wrap;\n",
              "      gap: 12px;\n",
              "    }\n",
              "\n",
              "    .colab-df-convert {\n",
              "      background-color: #E8F0FE;\n",
              "      border: none;\n",
              "      border-radius: 50%;\n",
              "      cursor: pointer;\n",
              "      display: none;\n",
              "      fill: #1967D2;\n",
              "      height: 32px;\n",
              "      padding: 0 0 0 0;\n",
              "      width: 32px;\n",
              "    }\n",
              "\n",
              "    .colab-df-convert:hover {\n",
              "      background-color: #E2EBFA;\n",
              "      box-shadow: 0px 1px 2px rgba(60, 64, 67, 0.3), 0px 1px 3px 1px rgba(60, 64, 67, 0.15);\n",
              "      fill: #174EA6;\n",
              "    }\n",
              "\n",
              "    [theme=dark] .colab-df-convert {\n",
              "      background-color: #3B4455;\n",
              "      fill: #D2E3FC;\n",
              "    }\n",
              "\n",
              "    [theme=dark] .colab-df-convert:hover {\n",
              "      background-color: #434B5C;\n",
              "      box-shadow: 0px 1px 3px 1px rgba(0, 0, 0, 0.15);\n",
              "      filter: drop-shadow(0px 1px 2px rgba(0, 0, 0, 0.3));\n",
              "      fill: #FFFFFF;\n",
              "    }\n",
              "  </style>\n",
              "\n",
              "      <script>\n",
              "        const buttonEl =\n",
              "          document.querySelector('#df-d687e9e0-1108-4ab6-8d64-c3c954b1cee9 button.colab-df-convert');\n",
              "        buttonEl.style.display =\n",
              "          google.colab.kernel.accessAllowed ? 'block' : 'none';\n",
              "\n",
              "        async function convertToInteractive(key) {\n",
              "          const element = document.querySelector('#df-d687e9e0-1108-4ab6-8d64-c3c954b1cee9');\n",
              "          const dataTable =\n",
              "            await google.colab.kernel.invokeFunction('convertToInteractive',\n",
              "                                                     [key], {});\n",
              "          if (!dataTable) return;\n",
              "\n",
              "          const docLinkHtml = 'Like what you see? Visit the ' +\n",
              "            '<a target=\"_blank\" href=https://colab.research.google.com/notebooks/data_table.ipynb>data table notebook</a>'\n",
              "            + ' to learn more about interactive tables.';\n",
              "          element.innerHTML = '';\n",
              "          dataTable['output_type'] = 'display_data';\n",
              "          await google.colab.output.renderOutput(dataTable, element);\n",
              "          const docLink = document.createElement('div');\n",
              "          docLink.innerHTML = docLinkHtml;\n",
              "          element.appendChild(docLink);\n",
              "        }\n",
              "      </script>\n",
              "    </div>\n",
              "  </div>\n",
              "  "
            ]
          },
          "metadata": {},
          "execution_count": 142
        }
      ]
    },
    {
      "cell_type": "markdown",
      "source": [
        "*Numerical Data:*\n",
        "- age\n",
        "- bmi\n",
        "- children\n",
        "- charges\n",
        "\n",
        "*Categorical Data:*\n",
        "- sex\n",
        "- smoker\n",
        "- region"
      ],
      "metadata": {
        "id": "hHOvoz9KRFHx"
      }
    },
    {
      "cell_type": "code",
      "source": [
        "# last 5 rows of the dataframe\n",
        "insurance_dataset.tail()"
      ],
      "metadata": {
        "colab": {
          "base_uri": "https://localhost:8080/",
          "height": 206
        },
        "id": "_KML1eRASawp",
        "outputId": "c5f8823f-d3f6-4a64-c2c2-312df10fcf78"
      },
      "execution_count": null,
      "outputs": [
        {
          "output_type": "execute_result",
          "data": {
            "text/plain": [
              "            age     sex        bmi smoker     region  children       charges\n",
              "3625  48.820767  female  41.426984     no  northwest         4  10987.324964\n",
              "3626  38.661977  female  26.202557     no  southeast         2  11735.844352\n",
              "3627  56.000000    male  40.300000     no  southwest         0  10602.385000\n",
              "3628  48.061207  female  34.930624     no  southeast         1   8976.140452\n",
              "3629  37.598865  female  25.219233     no  northeast         3   7027.698968"
            ],
            "text/html": [
              "\n",
              "  <div id=\"df-52b7488b-7d7a-40e1-9b85-9a2603d4bf02\">\n",
              "    <div class=\"colab-df-container\">\n",
              "      <div>\n",
              "<style scoped>\n",
              "    .dataframe tbody tr th:only-of-type {\n",
              "        vertical-align: middle;\n",
              "    }\n",
              "\n",
              "    .dataframe tbody tr th {\n",
              "        vertical-align: top;\n",
              "    }\n",
              "\n",
              "    .dataframe thead th {\n",
              "        text-align: right;\n",
              "    }\n",
              "</style>\n",
              "<table border=\"1\" class=\"dataframe\">\n",
              "  <thead>\n",
              "    <tr style=\"text-align: right;\">\n",
              "      <th></th>\n",
              "      <th>age</th>\n",
              "      <th>sex</th>\n",
              "      <th>bmi</th>\n",
              "      <th>smoker</th>\n",
              "      <th>region</th>\n",
              "      <th>children</th>\n",
              "      <th>charges</th>\n",
              "    </tr>\n",
              "  </thead>\n",
              "  <tbody>\n",
              "    <tr>\n",
              "      <th>3625</th>\n",
              "      <td>48.820767</td>\n",
              "      <td>female</td>\n",
              "      <td>41.426984</td>\n",
              "      <td>no</td>\n",
              "      <td>northwest</td>\n",
              "      <td>4</td>\n",
              "      <td>10987.324964</td>\n",
              "    </tr>\n",
              "    <tr>\n",
              "      <th>3626</th>\n",
              "      <td>38.661977</td>\n",
              "      <td>female</td>\n",
              "      <td>26.202557</td>\n",
              "      <td>no</td>\n",
              "      <td>southeast</td>\n",
              "      <td>2</td>\n",
              "      <td>11735.844352</td>\n",
              "    </tr>\n",
              "    <tr>\n",
              "      <th>3627</th>\n",
              "      <td>56.000000</td>\n",
              "      <td>male</td>\n",
              "      <td>40.300000</td>\n",
              "      <td>no</td>\n",
              "      <td>southwest</td>\n",
              "      <td>0</td>\n",
              "      <td>10602.385000</td>\n",
              "    </tr>\n",
              "    <tr>\n",
              "      <th>3628</th>\n",
              "      <td>48.061207</td>\n",
              "      <td>female</td>\n",
              "      <td>34.930624</td>\n",
              "      <td>no</td>\n",
              "      <td>southeast</td>\n",
              "      <td>1</td>\n",
              "      <td>8976.140452</td>\n",
              "    </tr>\n",
              "    <tr>\n",
              "      <th>3629</th>\n",
              "      <td>37.598865</td>\n",
              "      <td>female</td>\n",
              "      <td>25.219233</td>\n",
              "      <td>no</td>\n",
              "      <td>northeast</td>\n",
              "      <td>3</td>\n",
              "      <td>7027.698968</td>\n",
              "    </tr>\n",
              "  </tbody>\n",
              "</table>\n",
              "</div>\n",
              "      <button class=\"colab-df-convert\" onclick=\"convertToInteractive('df-52b7488b-7d7a-40e1-9b85-9a2603d4bf02')\"\n",
              "              title=\"Convert this dataframe to an interactive table.\"\n",
              "              style=\"display:none;\">\n",
              "        \n",
              "  <svg xmlns=\"http://www.w3.org/2000/svg\" height=\"24px\"viewBox=\"0 0 24 24\"\n",
              "       width=\"24px\">\n",
              "    <path d=\"M0 0h24v24H0V0z\" fill=\"none\"/>\n",
              "    <path d=\"M18.56 5.44l.94 2.06.94-2.06 2.06-.94-2.06-.94-.94-2.06-.94 2.06-2.06.94zm-11 1L8.5 8.5l.94-2.06 2.06-.94-2.06-.94L8.5 2.5l-.94 2.06-2.06.94zm10 10l.94 2.06.94-2.06 2.06-.94-2.06-.94-.94-2.06-.94 2.06-2.06.94z\"/><path d=\"M17.41 7.96l-1.37-1.37c-.4-.4-.92-.59-1.43-.59-.52 0-1.04.2-1.43.59L10.3 9.45l-7.72 7.72c-.78.78-.78 2.05 0 2.83L4 21.41c.39.39.9.59 1.41.59.51 0 1.02-.2 1.41-.59l7.78-7.78 2.81-2.81c.8-.78.8-2.07 0-2.86zM5.41 20L4 18.59l7.72-7.72 1.47 1.35L5.41 20z\"/>\n",
              "  </svg>\n",
              "      </button>\n",
              "      \n",
              "  <style>\n",
              "    .colab-df-container {\n",
              "      display:flex;\n",
              "      flex-wrap:wrap;\n",
              "      gap: 12px;\n",
              "    }\n",
              "\n",
              "    .colab-df-convert {\n",
              "      background-color: #E8F0FE;\n",
              "      border: none;\n",
              "      border-radius: 50%;\n",
              "      cursor: pointer;\n",
              "      display: none;\n",
              "      fill: #1967D2;\n",
              "      height: 32px;\n",
              "      padding: 0 0 0 0;\n",
              "      width: 32px;\n",
              "    }\n",
              "\n",
              "    .colab-df-convert:hover {\n",
              "      background-color: #E2EBFA;\n",
              "      box-shadow: 0px 1px 2px rgba(60, 64, 67, 0.3), 0px 1px 3px 1px rgba(60, 64, 67, 0.15);\n",
              "      fill: #174EA6;\n",
              "    }\n",
              "\n",
              "    [theme=dark] .colab-df-convert {\n",
              "      background-color: #3B4455;\n",
              "      fill: #D2E3FC;\n",
              "    }\n",
              "\n",
              "    [theme=dark] .colab-df-convert:hover {\n",
              "      background-color: #434B5C;\n",
              "      box-shadow: 0px 1px 3px 1px rgba(0, 0, 0, 0.15);\n",
              "      filter: drop-shadow(0px 1px 2px rgba(0, 0, 0, 0.3));\n",
              "      fill: #FFFFFF;\n",
              "    }\n",
              "  </style>\n",
              "\n",
              "      <script>\n",
              "        const buttonEl =\n",
              "          document.querySelector('#df-52b7488b-7d7a-40e1-9b85-9a2603d4bf02 button.colab-df-convert');\n",
              "        buttonEl.style.display =\n",
              "          google.colab.kernel.accessAllowed ? 'block' : 'none';\n",
              "\n",
              "        async function convertToInteractive(key) {\n",
              "          const element = document.querySelector('#df-52b7488b-7d7a-40e1-9b85-9a2603d4bf02');\n",
              "          const dataTable =\n",
              "            await google.colab.kernel.invokeFunction('convertToInteractive',\n",
              "                                                     [key], {});\n",
              "          if (!dataTable) return;\n",
              "\n",
              "          const docLinkHtml = 'Like what you see? Visit the ' +\n",
              "            '<a target=\"_blank\" href=https://colab.research.google.com/notebooks/data_table.ipynb>data table notebook</a>'\n",
              "            + ' to learn more about interactive tables.';\n",
              "          element.innerHTML = '';\n",
              "          dataTable['output_type'] = 'display_data';\n",
              "          await google.colab.output.renderOutput(dataTable, element);\n",
              "          const docLink = document.createElement('div');\n",
              "          docLink.innerHTML = docLinkHtml;\n",
              "          element.appendChild(docLink);\n",
              "        }\n",
              "      </script>\n",
              "    </div>\n",
              "  </div>\n",
              "  "
            ]
          },
          "metadata": {},
          "execution_count": 143
        }
      ]
    },
    {
      "cell_type": "code",
      "source": [
        "# number of rows and columns\n",
        "insurance_dataset.shape"
      ],
      "metadata": {
        "colab": {
          "base_uri": "https://localhost:8080/"
        },
        "id": "KIXV5fm8PrbT",
        "outputId": "7acc6d35-e09e-4873-897b-b6ca4f07c3e8"
      },
      "execution_count": null,
      "outputs": [
        {
          "output_type": "execute_result",
          "data": {
            "text/plain": [
              "(3630, 7)"
            ]
          },
          "metadata": {},
          "execution_count": 144
        }
      ]
    },
    {
      "cell_type": "markdown",
      "source": [
        "*Rows* = 3,630\n",
        "*Columns* = 7"
      ],
      "metadata": {
        "id": "0l2WMjm0Rgl1"
      }
    },
    {
      "cell_type": "code",
      "source": [
        "# getting some informations about the dataset\n",
        "insurance_dataset.info()"
      ],
      "metadata": {
        "colab": {
          "base_uri": "https://localhost:8080/"
        },
        "id": "APuq-622P0Ty",
        "outputId": "242d448a-054c-457f-92ca-d1df7b929a6e"
      },
      "execution_count": null,
      "outputs": [
        {
          "output_type": "stream",
          "name": "stdout",
          "text": [
            "<class 'pandas.core.frame.DataFrame'>\n",
            "RangeIndex: 3630 entries, 0 to 3629\n",
            "Data columns (total 7 columns):\n",
            " #   Column    Non-Null Count  Dtype  \n",
            "---  ------    --------------  -----  \n",
            " 0   age       3630 non-null   float64\n",
            " 1   sex       3630 non-null   object \n",
            " 2   bmi       3630 non-null   float64\n",
            " 3   smoker    3630 non-null   object \n",
            " 4   region    3630 non-null   object \n",
            " 5   children  3630 non-null   int64  \n",
            " 6   charges   3630 non-null   float64\n",
            "dtypes: float64(3), int64(1), object(3)\n",
            "memory usage: 198.6+ KB\n"
          ]
        }
      ]
    },
    {
      "cell_type": "markdown",
      "source": [
        "All Data Types are correct, except for age which should be int64"
      ],
      "metadata": {
        "id": "0tmX7J0rSF2t"
      }
    },
    {
      "cell_type": "code",
      "source": [
        "# checking for missing values\n",
        "insurance_dataset.isnull().sum()"
      ],
      "metadata": {
        "colab": {
          "base_uri": "https://localhost:8080/"
        },
        "id": "qN_yKbHPQ8ud",
        "outputId": "4395eadc-570e-40a6-f44f-6244de933290"
      },
      "execution_count": null,
      "outputs": [
        {
          "output_type": "execute_result",
          "data": {
            "text/plain": [
              "age         0\n",
              "sex         0\n",
              "bmi         0\n",
              "smoker      0\n",
              "region      0\n",
              "children    0\n",
              "charges     0\n",
              "dtype: int64"
            ]
          },
          "metadata": {},
          "execution_count": 146
        }
      ]
    },
    {
      "cell_type": "markdown",
      "source": [
        "No null values or rows"
      ],
      "metadata": {
        "id": "FLGb5iV0SNN7"
      }
    },
    {
      "cell_type": "markdown",
      "source": [
        "**Data Manipulation & Cleaning**"
      ],
      "metadata": {
        "id": "5mq6ZvVeSoyh"
      }
    },
    {
      "cell_type": "markdown",
      "source": [
        "*Manipulate age column's data type into int64*"
      ],
      "metadata": {
        "id": "erUXuE52U1rn"
      }
    },
    {
      "cell_type": "code",
      "source": [
        "# Round the values in the age column to 0 decimals\n",
        "insurance_dataset['age'] = insurance_dataset['age'].round(0)\n",
        "\n",
        "# Change the data type of the age column from float64 to int64\n",
        "insurance_dataset['age'] = insurance_dataset['age'].astype('int64')\n",
        "\n",
        "# Print the updated insurance_dataset\n",
        "print(insurance_dataset)\n",
        "\n",
        "# Print the data type of the values in the age column\n",
        "print(insurance_dataset['age'].dtype)"
      ],
      "metadata": {
        "colab": {
          "base_uri": "https://localhost:8080/"
        },
        "id": "Q7hAkwX-RAmS",
        "outputId": "199c7a70-1787-4fed-e5b7-0e8ed2500ed1"
      },
      "execution_count": null,
      "outputs": [
        {
          "output_type": "stream",
          "name": "stdout",
          "text": [
            "      age     sex        bmi smoker     region  children       charges\n",
            "0      21    male  25.745000     no  northeast         2   3279.868550\n",
            "1      37  female  25.744165    yes  southeast         3  21454.494239\n",
            "2      18    male  30.030000     no  southeast         1   1720.353700\n",
            "3      37    male  30.676891     no  northeast         3   6801.437542\n",
            "4      58    male  32.010000     no  southeast         1  11946.625900\n",
            "...   ...     ...        ...    ...        ...       ...           ...\n",
            "3625   49  female  41.426984     no  northwest         4  10987.324964\n",
            "3626   39  female  26.202557     no  southeast         2  11735.844352\n",
            "3627   56    male  40.300000     no  southwest         0  10602.385000\n",
            "3628   48  female  34.930624     no  southeast         1   8976.140452\n",
            "3629   38  female  25.219233     no  northeast         3   7027.698968\n",
            "\n",
            "[3630 rows x 7 columns]\n",
            "int64\n"
          ]
        }
      ]
    },
    {
      "cell_type": "markdown",
      "source": [
        "*Change the currency of the charges column to THB*\n",
        "- 1 USD equals 34.53 THB as of Jun 13 2023\n",
        "\n"
      ],
      "metadata": {
        "id": "IL_yF8MEVBY7"
      }
    },
    {
      "cell_type": "code",
      "source": [
        "# Define the USD-THB conversion rate\n",
        "usd_to_thb =  34.53\n",
        "# Multiply every value in the charges column with the conversion rate\n",
        "insurance_dataset['charges'] = insurance_dataset['charges'] * usd_to_thb\n",
        "# Print the updated DataFrame\n",
        "print(insurance_dataset)"
      ],
      "metadata": {
        "colab": {
          "base_uri": "https://localhost:8080/"
        },
        "id": "qF0iyKEjUHIr",
        "outputId": "3396a73f-0f4b-4d02-95b7-5781647e9c77"
      },
      "execution_count": null,
      "outputs": [
        {
          "output_type": "stream",
          "name": "stdout",
          "text": [
            "      age     sex        bmi smoker     region  children        charges\n",
            "0      21    male  25.745000     no  northeast         2  113253.861032\n",
            "1      37  female  25.744165    yes  southeast         3  740823.686060\n",
            "2      18    male  30.030000     no  southeast         1   59403.813261\n",
            "3      37    male  30.676891     no  northeast         3  234853.638320\n",
            "4      58    male  32.010000     no  southeast         1  412516.992327\n",
            "...   ...     ...        ...    ...        ...       ...            ...\n",
            "3625   49  female  41.426984     no  northwest         4  379392.331003\n",
            "3626   39  female  26.202557     no  southeast         2  405238.705469\n",
            "3627   56    male  40.300000     no  southwest         0  366100.354050\n",
            "3628   48  female  34.930624     no  southeast         1  309946.129792\n",
            "3629   38  female  25.219233     no  northeast         3  242666.445373\n",
            "\n",
            "[3630 rows x 7 columns]\n"
          ]
        }
      ]
    },
    {
      "cell_type": "markdown",
      "source": [
        "**Data Analysis**"
      ],
      "metadata": {
        "id": "13qGEH6-WvqN"
      }
    },
    {
      "cell_type": "code",
      "source": [
        "# Description of dataset (Numerical Data):\n",
        "insurance_dataset.describe()"
      ],
      "metadata": {
        "colab": {
          "base_uri": "https://localhost:8080/",
          "height": 300
        },
        "id": "7LoB2SR5W0rK",
        "outputId": "e0b27424-48a9-4587-c5aa-a7e59731bfd1"
      },
      "execution_count": null,
      "outputs": [
        {
          "output_type": "execute_result",
          "data": {
            "text/plain": [
              "               age          bmi     children       charges\n",
              "count  3630.000000  3630.000000  3630.000000  3.630000e+03\n",
              "mean     38.887879    30.629652     2.503581  4.414594e+05\n",
              "std      12.154074     5.441307     1.712568  3.710651e+05\n",
              "min      18.000000    15.960000     0.000000  3.873831e+04\n",
              "25%      29.000000    26.694526     1.000000  1.952609e+05\n",
              "50%      39.000000    30.200000     3.000000  3.260947e+05\n",
              "75%      48.000000    34.100000     4.000000  5.069145e+05\n",
              "max      64.000000    53.130000     5.000000  2.201993e+06"
            ],
            "text/html": [
              "\n",
              "  <div id=\"df-48e98f3d-e885-41ce-93e7-3fdf8c88070b\">\n",
              "    <div class=\"colab-df-container\">\n",
              "      <div>\n",
              "<style scoped>\n",
              "    .dataframe tbody tr th:only-of-type {\n",
              "        vertical-align: middle;\n",
              "    }\n",
              "\n",
              "    .dataframe tbody tr th {\n",
              "        vertical-align: top;\n",
              "    }\n",
              "\n",
              "    .dataframe thead th {\n",
              "        text-align: right;\n",
              "    }\n",
              "</style>\n",
              "<table border=\"1\" class=\"dataframe\">\n",
              "  <thead>\n",
              "    <tr style=\"text-align: right;\">\n",
              "      <th></th>\n",
              "      <th>age</th>\n",
              "      <th>bmi</th>\n",
              "      <th>children</th>\n",
              "      <th>charges</th>\n",
              "    </tr>\n",
              "  </thead>\n",
              "  <tbody>\n",
              "    <tr>\n",
              "      <th>count</th>\n",
              "      <td>3630.000000</td>\n",
              "      <td>3630.000000</td>\n",
              "      <td>3630.000000</td>\n",
              "      <td>3.630000e+03</td>\n",
              "    </tr>\n",
              "    <tr>\n",
              "      <th>mean</th>\n",
              "      <td>38.887879</td>\n",
              "      <td>30.629652</td>\n",
              "      <td>2.503581</td>\n",
              "      <td>4.414594e+05</td>\n",
              "    </tr>\n",
              "    <tr>\n",
              "      <th>std</th>\n",
              "      <td>12.154074</td>\n",
              "      <td>5.441307</td>\n",
              "      <td>1.712568</td>\n",
              "      <td>3.710651e+05</td>\n",
              "    </tr>\n",
              "    <tr>\n",
              "      <th>min</th>\n",
              "      <td>18.000000</td>\n",
              "      <td>15.960000</td>\n",
              "      <td>0.000000</td>\n",
              "      <td>3.873831e+04</td>\n",
              "    </tr>\n",
              "    <tr>\n",
              "      <th>25%</th>\n",
              "      <td>29.000000</td>\n",
              "      <td>26.694526</td>\n",
              "      <td>1.000000</td>\n",
              "      <td>1.952609e+05</td>\n",
              "    </tr>\n",
              "    <tr>\n",
              "      <th>50%</th>\n",
              "      <td>39.000000</td>\n",
              "      <td>30.200000</td>\n",
              "      <td>3.000000</td>\n",
              "      <td>3.260947e+05</td>\n",
              "    </tr>\n",
              "    <tr>\n",
              "      <th>75%</th>\n",
              "      <td>48.000000</td>\n",
              "      <td>34.100000</td>\n",
              "      <td>4.000000</td>\n",
              "      <td>5.069145e+05</td>\n",
              "    </tr>\n",
              "    <tr>\n",
              "      <th>max</th>\n",
              "      <td>64.000000</td>\n",
              "      <td>53.130000</td>\n",
              "      <td>5.000000</td>\n",
              "      <td>2.201993e+06</td>\n",
              "    </tr>\n",
              "  </tbody>\n",
              "</table>\n",
              "</div>\n",
              "      <button class=\"colab-df-convert\" onclick=\"convertToInteractive('df-48e98f3d-e885-41ce-93e7-3fdf8c88070b')\"\n",
              "              title=\"Convert this dataframe to an interactive table.\"\n",
              "              style=\"display:none;\">\n",
              "        \n",
              "  <svg xmlns=\"http://www.w3.org/2000/svg\" height=\"24px\"viewBox=\"0 0 24 24\"\n",
              "       width=\"24px\">\n",
              "    <path d=\"M0 0h24v24H0V0z\" fill=\"none\"/>\n",
              "    <path d=\"M18.56 5.44l.94 2.06.94-2.06 2.06-.94-2.06-.94-.94-2.06-.94 2.06-2.06.94zm-11 1L8.5 8.5l.94-2.06 2.06-.94-2.06-.94L8.5 2.5l-.94 2.06-2.06.94zm10 10l.94 2.06.94-2.06 2.06-.94-2.06-.94-.94-2.06-.94 2.06-2.06.94z\"/><path d=\"M17.41 7.96l-1.37-1.37c-.4-.4-.92-.59-1.43-.59-.52 0-1.04.2-1.43.59L10.3 9.45l-7.72 7.72c-.78.78-.78 2.05 0 2.83L4 21.41c.39.39.9.59 1.41.59.51 0 1.02-.2 1.41-.59l7.78-7.78 2.81-2.81c.8-.78.8-2.07 0-2.86zM5.41 20L4 18.59l7.72-7.72 1.47 1.35L5.41 20z\"/>\n",
              "  </svg>\n",
              "      </button>\n",
              "      \n",
              "  <style>\n",
              "    .colab-df-container {\n",
              "      display:flex;\n",
              "      flex-wrap:wrap;\n",
              "      gap: 12px;\n",
              "    }\n",
              "\n",
              "    .colab-df-convert {\n",
              "      background-color: #E8F0FE;\n",
              "      border: none;\n",
              "      border-radius: 50%;\n",
              "      cursor: pointer;\n",
              "      display: none;\n",
              "      fill: #1967D2;\n",
              "      height: 32px;\n",
              "      padding: 0 0 0 0;\n",
              "      width: 32px;\n",
              "    }\n",
              "\n",
              "    .colab-df-convert:hover {\n",
              "      background-color: #E2EBFA;\n",
              "      box-shadow: 0px 1px 2px rgba(60, 64, 67, 0.3), 0px 1px 3px 1px rgba(60, 64, 67, 0.15);\n",
              "      fill: #174EA6;\n",
              "    }\n",
              "\n",
              "    [theme=dark] .colab-df-convert {\n",
              "      background-color: #3B4455;\n",
              "      fill: #D2E3FC;\n",
              "    }\n",
              "\n",
              "    [theme=dark] .colab-df-convert:hover {\n",
              "      background-color: #434B5C;\n",
              "      box-shadow: 0px 1px 3px 1px rgba(0, 0, 0, 0.15);\n",
              "      filter: drop-shadow(0px 1px 2px rgba(0, 0, 0, 0.3));\n",
              "      fill: #FFFFFF;\n",
              "    }\n",
              "  </style>\n",
              "\n",
              "      <script>\n",
              "        const buttonEl =\n",
              "          document.querySelector('#df-48e98f3d-e885-41ce-93e7-3fdf8c88070b button.colab-df-convert');\n",
              "        buttonEl.style.display =\n",
              "          google.colab.kernel.accessAllowed ? 'block' : 'none';\n",
              "\n",
              "        async function convertToInteractive(key) {\n",
              "          const element = document.querySelector('#df-48e98f3d-e885-41ce-93e7-3fdf8c88070b');\n",
              "          const dataTable =\n",
              "            await google.colab.kernel.invokeFunction('convertToInteractive',\n",
              "                                                     [key], {});\n",
              "          if (!dataTable) return;\n",
              "\n",
              "          const docLinkHtml = 'Like what you see? Visit the ' +\n",
              "            '<a target=\"_blank\" href=https://colab.research.google.com/notebooks/data_table.ipynb>data table notebook</a>'\n",
              "            + ' to learn more about interactive tables.';\n",
              "          element.innerHTML = '';\n",
              "          dataTable['output_type'] = 'display_data';\n",
              "          await google.colab.output.renderOutput(dataTable, element);\n",
              "          const docLink = document.createElement('div');\n",
              "          docLink.innerHTML = docLinkHtml;\n",
              "          element.appendChild(docLink);\n",
              "        }\n",
              "      </script>\n",
              "    </div>\n",
              "  </div>\n",
              "  "
            ]
          },
          "metadata": {},
          "execution_count": 149
        }
      ]
    },
    {
      "cell_type": "code",
      "source": [
        "# Description of dataset (Categorical):\n",
        "insurance_dataset.describe(include=['O'])"
      ],
      "metadata": {
        "colab": {
          "base_uri": "https://localhost:8080/",
          "height": 174
        },
        "id": "cgtqZgu1XLaj",
        "outputId": "8f758cbf-756a-4ce0-c77f-6fe62f2c9370"
      },
      "execution_count": null,
      "outputs": [
        {
          "output_type": "execute_result",
          "data": {
            "text/plain": [
              "         sex smoker     region\n",
              "count   3630   3630       3630\n",
              "unique     2      2          4\n",
              "top     male     no  southeast\n",
              "freq    2029   3070       1021"
            ],
            "text/html": [
              "\n",
              "  <div id=\"df-dd1ad308-4e2e-4cd6-a9a9-0c20ad2e6b84\">\n",
              "    <div class=\"colab-df-container\">\n",
              "      <div>\n",
              "<style scoped>\n",
              "    .dataframe tbody tr th:only-of-type {\n",
              "        vertical-align: middle;\n",
              "    }\n",
              "\n",
              "    .dataframe tbody tr th {\n",
              "        vertical-align: top;\n",
              "    }\n",
              "\n",
              "    .dataframe thead th {\n",
              "        text-align: right;\n",
              "    }\n",
              "</style>\n",
              "<table border=\"1\" class=\"dataframe\">\n",
              "  <thead>\n",
              "    <tr style=\"text-align: right;\">\n",
              "      <th></th>\n",
              "      <th>sex</th>\n",
              "      <th>smoker</th>\n",
              "      <th>region</th>\n",
              "    </tr>\n",
              "  </thead>\n",
              "  <tbody>\n",
              "    <tr>\n",
              "      <th>count</th>\n",
              "      <td>3630</td>\n",
              "      <td>3630</td>\n",
              "      <td>3630</td>\n",
              "    </tr>\n",
              "    <tr>\n",
              "      <th>unique</th>\n",
              "      <td>2</td>\n",
              "      <td>2</td>\n",
              "      <td>4</td>\n",
              "    </tr>\n",
              "    <tr>\n",
              "      <th>top</th>\n",
              "      <td>male</td>\n",
              "      <td>no</td>\n",
              "      <td>southeast</td>\n",
              "    </tr>\n",
              "    <tr>\n",
              "      <th>freq</th>\n",
              "      <td>2029</td>\n",
              "      <td>3070</td>\n",
              "      <td>1021</td>\n",
              "    </tr>\n",
              "  </tbody>\n",
              "</table>\n",
              "</div>\n",
              "      <button class=\"colab-df-convert\" onclick=\"convertToInteractive('df-dd1ad308-4e2e-4cd6-a9a9-0c20ad2e6b84')\"\n",
              "              title=\"Convert this dataframe to an interactive table.\"\n",
              "              style=\"display:none;\">\n",
              "        \n",
              "  <svg xmlns=\"http://www.w3.org/2000/svg\" height=\"24px\"viewBox=\"0 0 24 24\"\n",
              "       width=\"24px\">\n",
              "    <path d=\"M0 0h24v24H0V0z\" fill=\"none\"/>\n",
              "    <path d=\"M18.56 5.44l.94 2.06.94-2.06 2.06-.94-2.06-.94-.94-2.06-.94 2.06-2.06.94zm-11 1L8.5 8.5l.94-2.06 2.06-.94-2.06-.94L8.5 2.5l-.94 2.06-2.06.94zm10 10l.94 2.06.94-2.06 2.06-.94-2.06-.94-.94-2.06-.94 2.06-2.06.94z\"/><path d=\"M17.41 7.96l-1.37-1.37c-.4-.4-.92-.59-1.43-.59-.52 0-1.04.2-1.43.59L10.3 9.45l-7.72 7.72c-.78.78-.78 2.05 0 2.83L4 21.41c.39.39.9.59 1.41.59.51 0 1.02-.2 1.41-.59l7.78-7.78 2.81-2.81c.8-.78.8-2.07 0-2.86zM5.41 20L4 18.59l7.72-7.72 1.47 1.35L5.41 20z\"/>\n",
              "  </svg>\n",
              "      </button>\n",
              "      \n",
              "  <style>\n",
              "    .colab-df-container {\n",
              "      display:flex;\n",
              "      flex-wrap:wrap;\n",
              "      gap: 12px;\n",
              "    }\n",
              "\n",
              "    .colab-df-convert {\n",
              "      background-color: #E8F0FE;\n",
              "      border: none;\n",
              "      border-radius: 50%;\n",
              "      cursor: pointer;\n",
              "      display: none;\n",
              "      fill: #1967D2;\n",
              "      height: 32px;\n",
              "      padding: 0 0 0 0;\n",
              "      width: 32px;\n",
              "    }\n",
              "\n",
              "    .colab-df-convert:hover {\n",
              "      background-color: #E2EBFA;\n",
              "      box-shadow: 0px 1px 2px rgba(60, 64, 67, 0.3), 0px 1px 3px 1px rgba(60, 64, 67, 0.15);\n",
              "      fill: #174EA6;\n",
              "    }\n",
              "\n",
              "    [theme=dark] .colab-df-convert {\n",
              "      background-color: #3B4455;\n",
              "      fill: #D2E3FC;\n",
              "    }\n",
              "\n",
              "    [theme=dark] .colab-df-convert:hover {\n",
              "      background-color: #434B5C;\n",
              "      box-shadow: 0px 1px 3px 1px rgba(0, 0, 0, 0.15);\n",
              "      filter: drop-shadow(0px 1px 2px rgba(0, 0, 0, 0.3));\n",
              "      fill: #FFFFFF;\n",
              "    }\n",
              "  </style>\n",
              "\n",
              "      <script>\n",
              "        const buttonEl =\n",
              "          document.querySelector('#df-dd1ad308-4e2e-4cd6-a9a9-0c20ad2e6b84 button.colab-df-convert');\n",
              "        buttonEl.style.display =\n",
              "          google.colab.kernel.accessAllowed ? 'block' : 'none';\n",
              "\n",
              "        async function convertToInteractive(key) {\n",
              "          const element = document.querySelector('#df-dd1ad308-4e2e-4cd6-a9a9-0c20ad2e6b84');\n",
              "          const dataTable =\n",
              "            await google.colab.kernel.invokeFunction('convertToInteractive',\n",
              "                                                     [key], {});\n",
              "          if (!dataTable) return;\n",
              "\n",
              "          const docLinkHtml = 'Like what you see? Visit the ' +\n",
              "            '<a target=\"_blank\" href=https://colab.research.google.com/notebooks/data_table.ipynb>data table notebook</a>'\n",
              "            + ' to learn more about interactive tables.';\n",
              "          element.innerHTML = '';\n",
              "          dataTable['output_type'] = 'display_data';\n",
              "          await google.colab.output.renderOutput(dataTable, element);\n",
              "          const docLink = document.createElement('div');\n",
              "          docLink.innerHTML = docLinkHtml;\n",
              "          element.appendChild(docLink);\n",
              "        }\n",
              "      </script>\n",
              "    </div>\n",
              "  </div>\n",
              "  "
            ]
          },
          "metadata": {},
          "execution_count": 150
        }
      ]
    },
    {
      "cell_type": "code",
      "source": [
        "# Histrogram of Medical Insurance Charges:\n",
        "plt.figure(figsize=(8,5))\n",
        "sns.histplot(insurance_dataset['charges'], kde=True)\n",
        "plt.title('Medical Insurance Charges', fontsize=20)\n",
        "ax = plt.gca()\n",
        "ax.ticklabel_format(style='plain', axis='both')\n",
        "plt.show()"
      ],
      "metadata": {
        "colab": {
          "base_uri": "https://localhost:8080/",
          "height": 495
        },
        "id": "_iRr6H_TYvxD",
        "outputId": "f8576df1-1b9e-402a-de1c-1a59d65cd3be"
      },
      "execution_count": null,
      "outputs": [
        {
          "output_type": "display_data",
          "data": {
            "text/plain": [
              "<Figure size 800x500 with 1 Axes>"
            ],
            "image/png": "[encoded data removed]"
          },
          "metadata": {}
        }
      ]
    },
    {
      "cell_type": "code",
      "source": [
        "# Histrogram of Age:\n",
        "plt.figure(figsize=(8,5))\n",
        "sns.histplot(insurance_dataset['age'], kde=True)\n",
        "plt.title('Age', fontsize=20)\n",
        "plt.show()"
      ],
      "metadata": {
        "colab": {
          "base_uri": "https://localhost:8080/",
          "height": 495
        },
        "id": "vk7IvVe_ZIdO",
        "outputId": "0eb37322-3c7b-4748-f66f-8ca68fa423f9"
      },
      "execution_count": null,
      "outputs": [
        {
          "output_type": "display_data",
          "data": {
            "text/plain": [
              "<Figure size 800x500 with 1 Axes>"
            ],
            "image/png": "[encoded data removed]"
          },
          "metadata": {}
        }
      ]
    },
    {
      "cell_type": "code",
      "source": [
        "# Histrogram of Body Mass Index:\n",
        "plt.figure(figsize=(8,5))\n",
        "sns.histplot(insurance_dataset['bmi'], kde=True)\n",
        "plt.title('Body Mass Index', fontsize=20)\n",
        "plt.show()"
      ],
      "metadata": {
        "colab": {
          "base_uri": "https://localhost:8080/",
          "height": 495
        },
        "id": "OsUWYRdfa3LG",
        "outputId": "6cb58d08-195b-4917-9e72-12e84499d716"
      },
      "execution_count": null,
      "outputs": [
        {
          "output_type": "display_data",
          "data": {
            "text/plain": [
              "<Figure size 800x500 with 1 Axes>"
            ],
            "image/png": "[encoded data removed]"
          },
          "metadata": {}
        }
      ]
    },
    {
      "cell_type": "code",
      "source": [
        "# countplot of Amount of Children\n",
        "plt.figure(figsize=(6,6))\n",
        "sns.countplot(x='children', data=insurance_dataset)\n",
        "plt.title('Amount of Children')\n",
        "plt.show()\n",
        "insurance_dataset['children'].value_counts()"
      ],
      "metadata": {
        "colab": {
          "base_uri": "https://localhost:8080/",
          "height": 685
        },
        "id": "bYJncYnWbgCZ",
        "outputId": "8d5b3efe-e5ff-44e4-f879-985086f0d0f2"
      },
      "execution_count": null,
      "outputs": [
        {
          "output_type": "display_data",
          "data": {
            "text/plain": [
              "<Figure size 600x600 with 1 Axes>"
            ],
            "image/png": "[encoded data removed]"
          },
          "metadata": {}
        },
        {
          "output_type": "execute_result",
          "data": {
            "text/plain": [
              "0    619\n",
              "2    615\n",
              "5    610\n",
              "3    605\n",
              "4    604\n",
              "1    577\n",
              "Name: children, dtype: int64"
            ]
          },
          "metadata": {},
          "execution_count": 154
        }
      ]
    },
    {
      "cell_type": "code",
      "source": [
        "# pie chart of Sex\n",
        "category_counts = insurance_dataset['sex'].value_counts()\n",
        "plt.pie(category_counts, labels=category_counts.index, autopct='%1.1f%%')\n",
        "plt.title('Pie Chart of Sex')\n",
        "plt.show()\n",
        "\n",
        "# Value Counts:\n",
        "print(\"Male   :\", insurance_dataset['sex'].value_counts()[0])\n",
        "print(\"Female :\", insurance_dataset['sex'].value_counts()[1])"
      ],
      "metadata": {
        "colab": {
          "base_uri": "https://localhost:8080/",
          "height": 463
        },
        "id": "1XlsNtVZcSP6",
        "outputId": "1a268bf1-ff6e-4074-dd53-43a47e135750"
      },
      "execution_count": null,
      "outputs": [
        {
          "output_type": "display_data",
          "data": {
            "text/plain": [
              "<Figure size 640x480 with 1 Axes>"
            ],
            "image/png": "[encoded data removed]"
          },
          "metadata": {}
        },
        {
          "output_type": "stream",
          "name": "stdout",
          "text": [
            "Male   : 2029\n",
            "Female : 1601\n"
          ]
        }
      ]
    },
    {
      "cell_type": "code",
      "source": [
        "# pie chart of Smoker\n",
        "category_counts = insurance_dataset['smoker'].value_counts()\n",
        "plt.pie(category_counts, labels=category_counts.index, autopct='%1.1f%%')\n",
        "plt.title('Pie Chart of Smoker')\n",
        "plt.show()\n",
        "\n",
        "# Value Counts:\n",
        "print(\"No  :\", insurance_dataset['smoker'].value_counts()[0])\n",
        "print(\"Yes :\", insurance_dataset['smoker'].value_counts()[1])"
      ],
      "metadata": {
        "colab": {
          "base_uri": "https://localhost:8080/",
          "height": 463
        },
        "id": "JKjT4MZZdt-u",
        "outputId": "292720ab-69c6-467e-9b95-a0ed714f27e7"
      },
      "execution_count": null,
      "outputs": [
        {
          "output_type": "display_data",
          "data": {
            "text/plain": [
              "<Figure size 640x480 with 1 Axes>"
            ],
            "image/png": "[encoded data removed]"
          },
          "metadata": {}
        },
        {
          "output_type": "stream",
          "name": "stdout",
          "text": [
            "No  : 3070\n",
            "Yes : 560\n"
          ]
        }
      ]
    },
    {
      "cell_type": "code",
      "source": [
        "# Countplot of Region\n",
        "plt.figure(figsize=(6,6))\n",
        "sns.countplot(x='region', data=insurance_dataset)\n",
        "plt.title('Region')\n",
        "plt.show()\n",
        "print(\"South-East region :\", insurance_dataset['region'].value_counts()[0])\n",
        "print(\"North-West region :\", insurance_dataset['region'].value_counts()[1])\n",
        "print(\"South-West region :\", insurance_dataset['region'].value_counts()[2])\n",
        "print(\"North-East region :\", insurance_dataset['region'].value_counts()[3])"
      ],
      "metadata": {
        "colab": {
          "base_uri": "https://localhost:8080/",
          "height": 633
        },
        "id": "sHMz695ueX0e",
        "outputId": "48de52e9-6b61-4cd7-e855-ad0a6249b2ff"
      },
      "execution_count": null,
      "outputs": [
        {
          "output_type": "display_data",
          "data": {
            "text/plain": [
              "<Figure size 600x600 with 1 Axes>"
            ],
            "image/png": "[encoded data removed]"
          },
          "metadata": {}
        },
        {
          "output_type": "stream",
          "name": "stdout",
          "text": [
            "South-East region : 1021\n",
            "North-West region : 911\n",
            "South-West region : 850\n",
            "North-East region : 848\n"
          ]
        }
      ]
    },
    {
      "cell_type": "markdown",
      "source": [
        "**Data Pre-Processing**"
      ],
      "metadata": {
        "id": "PGIy75bgfWon"
      }
    },
    {
      "cell_type": "code",
      "source": [
        "# encoding sex column\n",
        "insurance_dataset.replace({'sex':{'male':0,'female':1}}, inplace=True)\n",
        "\n",
        "# encoding 'smoker' column\n",
        "insurance_dataset.replace({'smoker':{'yes':0,'no':1}}, inplace=True)\n",
        "\n",
        "# encoding 'region' column\n",
        "insurance_dataset.replace({'region':{'southeast':0,'southwest':1,'northeast':2,'northwest':3}}, inplace=True)"
      ],
      "metadata": {
        "id": "983fMITyfflU"
      },
      "execution_count": null,
      "outputs": []
    },
    {
      "cell_type": "code",
      "source": [
        "# Splitting the Features and Target\n",
        "X = insurance_dataset.drop(columns='charges', axis=1)\n",
        "Y = insurance_dataset['charges']"
      ],
      "metadata": {
        "id": "G7V2Pzfcfw9K"
      },
      "execution_count": null,
      "outputs": []
    },
    {
      "cell_type": "code",
      "source": [
        "print(X)"
      ],
      "metadata": {
        "colab": {
          "base_uri": "https://localhost:8080/"
        },
        "id": "BWfykM8PgEY6",
        "outputId": "1755ebf0-c441-4f9e-f37e-2b18537706d2"
      },
      "execution_count": null,
      "outputs": [
        {
          "output_type": "stream",
          "name": "stdout",
          "text": [
            "      age  sex        bmi  smoker  region  children\n",
            "0      21    0  25.745000       1       2         2\n",
            "1      37    1  25.744165       0       0         3\n",
            "2      18    0  30.030000       1       0         1\n",
            "3      37    0  30.676891       1       2         3\n",
            "4      58    0  32.010000       1       0         1\n",
            "...   ...  ...        ...     ...     ...       ...\n",
            "3625   49    1  41.426984       1       3         4\n",
            "3626   39    1  26.202557       1       0         2\n",
            "3627   56    0  40.300000       1       1         0\n",
            "3628   48    1  34.930624       1       0         1\n",
            "3629   38    1  25.219233       1       2         3\n",
            "\n",
            "[3630 rows x 6 columns]\n"
          ]
        }
      ]
    },
    {
      "cell_type": "code",
      "source": [
        "print(Y)"
      ],
      "metadata": {
        "colab": {
          "base_uri": "https://localhost:8080/"
        },
        "id": "gqpi68ifgFNx",
        "outputId": "4b2858cf-8489-4279-a634-807636978027"
      },
      "execution_count": null,
      "outputs": [
        {
          "output_type": "stream",
          "name": "stdout",
          "text": [
            "0       113253.861032\n",
            "1       740823.686060\n",
            "2        59403.813261\n",
            "3       234853.638320\n",
            "4       412516.992327\n",
            "            ...      \n",
            "3625    379392.331003\n",
            "3626    405238.705469\n",
            "3627    366100.354050\n",
            "3628    309946.129792\n",
            "3629    242666.445373\n",
            "Name: charges, Length: 3630, dtype: float64\n"
          ]
        }
      ]
    },
    {
      "cell_type": "code",
      "source": [
        "# Splitting the data into Training data & Testing Data\n",
        "X_train, X_test, Y_train, Y_test = train_test_split(X, Y, test_size=0.2, random_state=0)"
      ],
      "metadata": {
        "id": "NiAnQSk5gOwi"
      },
      "execution_count": null,
      "outputs": []
    },
    {
      "cell_type": "code",
      "source": [
        "print(X.shape, X_train.shape, X_test.shape)"
      ],
      "metadata": {
        "colab": {
          "base_uri": "https://localhost:8080/"
        },
        "id": "uTtMODLMg7kI",
        "outputId": "28d7a00f-91a1-4113-dbeb-7d623ce922ae"
      },
      "execution_count": null,
      "outputs": [
        {
          "output_type": "stream",
          "name": "stdout",
          "text": [
            "(3630, 6) (2904, 6) (726, 6)\n"
          ]
        }
      ]
    },
    {
      "cell_type": "markdown",
      "source": [
        "**Model Building & Testing**"
      ],
      "metadata": {
        "id": "bjlglzndgnh4"
      }
    },
    {
      "cell_type": "code",
      "source": [
        "# Linear Regression:\n",
        "LinearRegression = LinearRegression()\n",
        "LinearRegression = LinearRegression.fit(X_train, Y_train)\n",
        "\n",
        "# Prediction:\n",
        "Y_pred1 = LinearRegression.predict(X_test)\n",
        "\n",
        "# Scores:\n",
        "print(r2_score(Y_test, Y_pred1))\n",
        "print(mean_squared_error(Y_test, Y_pred1))"
      ],
      "metadata": {
        "colab": {
          "base_uri": "https://localhost:8080/"
        },
        "id": "vKQ1RgDMgm7U",
        "outputId": "063992e0-c22d-4f77-f7c5-291c55c5a8d6"
      },
      "execution_count": null,
      "outputs": [
        {
          "output_type": "stream",
          "name": "stdout",
          "text": [
            "0.7408239267984487\n",
            "37929644864.8891\n"
          ]
        }
      ]
    },
    {
      "cell_type": "code",
      "source": [
        "# SVR:\n",
        "svm = SVR()\n",
        "svm = svm.fit(X_train, Y_train)\n",
        "\n",
        "# Prediction:\n",
        "Y_pred2 = svm.predict(X_test)\n",
        "\n",
        "# Scores:\n",
        "print(r2_score(Y_test, Y_pred2))\n",
        "print(mean_squared_error(Y_test, Y_pred2))"
      ],
      "metadata": {
        "colab": {
          "base_uri": "https://localhost:8080/"
        },
        "id": "5AhQF4ick5gG",
        "outputId": "33c2277c-5154-47a2-ee70-1f02233305c4"
      },
      "execution_count": null,
      "outputs": [
        {
          "output_type": "stream",
          "name": "stdout",
          "text": [
            "-0.09543494148331555\n",
            "160313634626.06863\n"
          ]
        }
      ]
    },
    {
      "cell_type": "code",
      "source": [
        "# GradientBoostingRegressor:\n",
        "gr = GradientBoostingRegressor()\n",
        "gr = gr.fit(X_train, Y_train)\n",
        "\n",
        "# Prediction:\n",
        "Y_pred3 = gr.predict(X_test)\n",
        "\n",
        "# Scores:\n",
        "print(r2_score(Y_test, Y_pred3))\n",
        "print(mean_squared_error(Y_test, Y_pred3))"
      ],
      "metadata": {
        "colab": {
          "base_uri": "https://localhost:8080/"
        },
        "id": "_YojtfIalSsW",
        "outputId": "e7974b3d-7be1-4bdf-f4a5-079c0b61abff"
      },
      "execution_count": null,
      "outputs": [
        {
          "output_type": "stream",
          "name": "stdout",
          "text": [
            "0.8876146936979735\n",
            "16447254190.600685\n"
          ]
        }
      ]
    },
    {
      "cell_type": "code",
      "source": [
        "# Ridge:\n",
        "Ridge = Ridge()\n",
        "Ridge = Ridge.fit(X_train, Y_train)\n",
        "\n",
        "# Prediction:\n",
        "Y_pred4 = Ridge.predict(X_test)\n",
        "\n",
        "# Scores:\n",
        "print(r2_score(Y_test, Y_pred4))\n",
        "print(mean_squared_error(Y_test, Y_pred4))\n"
      ],
      "metadata": {
        "colab": {
          "base_uri": "https://localhost:8080/"
        },
        "id": "qGjH-pwwhm0B",
        "outputId": "412eda6b-2f50-4ae2-ad04-3527b85a25c9"
      },
      "execution_count": null,
      "outputs": [
        {
          "output_type": "stream",
          "name": "stdout",
          "text": [
            "0.7406623543886348\n",
            "37953290504.89167\n"
          ]
        }
      ]
    },
    {
      "cell_type": "code",
      "source": [
        "# Lasso:\n",
        "Lasso = Lasso()\n",
        "Lasso = Lasso.fit(X_train, Y_train)\n",
        "\n",
        "# Prediction:\n",
        "Y_pred5 = Lasso.predict(X_test)\n",
        "\n",
        "# Scores:\n",
        "print(r2_score(Y_test, Y_pred5))\n",
        "print(mean_squared_error(Y_test, Y_pred5))\n"
      ],
      "metadata": {
        "colab": {
          "base_uri": "https://localhost:8080/"
        },
        "id": "TfMZRAd3hy4j",
        "outputId": "86a02dbb-d552-4913-a2da-392788460ae6"
      },
      "execution_count": null,
      "outputs": [
        {
          "output_type": "stream",
          "name": "stdout",
          "text": [
            "0.7408231547141084\n",
            "37929757857.128174\n"
          ]
        }
      ]
    },
    {
      "cell_type": "code",
      "source": [
        "# Random Forest Regressor:\n",
        "Rf = RandomForestRegressor()\n",
        "Rf = Rf.fit(X_train, Y_train)\n",
        "\n",
        "# Prediction:\n",
        "Y_pred6 = Rf.predict(X_test)\n",
        "\n",
        "# Scores:\n",
        "print(r2_score(Y_test, Y_pred6))\n",
        "print(mean_squared_error(Y_test, Y_pred6))"
      ],
      "metadata": {
        "colab": {
          "base_uri": "https://localhost:8080/"
        },
        "id": "v_4cRaldiUT6",
        "outputId": "9a7338ab-a34f-46bd-8fc2-a835a8f2febb"
      },
      "execution_count": null,
      "outputs": [
        {
          "output_type": "stream",
          "name": "stdout",
          "text": [
            "0.9078876580202564\n",
            "13480366361.781801\n"
          ]
        }
      ]
    },
    {
      "cell_type": "code",
      "source": [
        "df = pd.DataFrame({'Actual':Y_test, 'Lr': Y_pred1, 'svm' : Y_pred2, 'gr':Y_pred3, 'ridge':Y_pred4, 'lasso':Y_pred5, 'rf':Y_pred6})\n",
        "print(df)"
      ],
      "metadata": {
        "colab": {
          "base_uri": "https://localhost:8080/"
        },
        "id": "hibR-PgsmHcN",
        "outputId": "7b25c4bb-d2b2-4ac3-d3c5-6335c84e1e28"
      },
      "execution_count": null,
      "outputs": [
        {
          "output_type": "stream",
          "name": "stdout",
          "text": [
            "             Actual            Lr            svm            gr         ridge  \\\n",
            "304   381520.730819  5.074744e+05  325074.122252  3.971947e+05  5.076599e+05   \n",
            "88    368038.190177  4.272925e+05  325050.560805  3.836714e+05  4.274292e+05   \n",
            "1239  960235.277703  1.181781e+06  325235.243447  1.048076e+06  1.180124e+06   \n",
            "905    72655.035702  1.215314e+05  324644.793082  1.301947e+05  1.220779e+05   \n",
            "3499  436790.828898  5.070406e+05  325175.464251  4.755207e+05  5.071919e+05   \n",
            "...             ...           ...            ...           ...           ...   \n",
            "989   372675.640845  4.685954e+05  325071.727285  3.957710e+05  4.687549e+05   \n",
            "2318  332756.384411  4.004725e+05  325007.225742  3.294209e+05  4.007235e+05   \n",
            "2872  632269.921260  9.758914e+05  324708.722568  6.398287e+05  9.742519e+05   \n",
            "725   231819.376134  3.940309e+05  324797.755064  3.873026e+05  3.942149e+05   \n",
            "3568  357332.316058  4.663078e+05  325134.635591  4.489889e+05  4.666430e+05   \n",
            "\n",
            "             lasso            rf  \n",
            "304   5.074748e+05  3.814867e+05  \n",
            "88    4.272930e+05  3.681700e+05  \n",
            "1239  1.181779e+06  1.063483e+06  \n",
            "905   1.215323e+05  7.311055e+04  \n",
            "3499  5.070410e+05  4.429736e+05  \n",
            "...            ...           ...  \n",
            "989   4.685959e+05  3.726578e+05  \n",
            "2318  4.004716e+05  5.050174e+05  \n",
            "2872  9.758833e+05  6.288241e+05  \n",
            "725   3.940285e+05  2.203553e+05  \n",
            "3568  4.663094e+05  4.424937e+05  \n",
            "\n",
            "[726 rows x 7 columns]\n"
          ]
        }
      ]
    },
    {
      "cell_type": "code",
      "source": [
        "plt.subplot(321)\n",
        "plt.plot(df['Actual'].iloc[0:11], label='Actual')\n",
        "plt.plot(df['Lr'].iloc[0:11], label='Lr')\n",
        "plt.legend()\n",
        "\n",
        "plt.subplot(322)\n",
        "plt.plot(df['Actual'].iloc[0:11], label='Actual')\n",
        "plt.plot(df['svm'].iloc[0:11], label='svm')\n",
        "plt.legend()\n",
        "\n",
        "plt.subplot(323)\n",
        "plt.plot(df['Actual'].iloc[0:11], label='Actual')\n",
        "plt.plot(df['gr'].iloc[0:11], label='gr')\n",
        "plt.legend()\n",
        "\n",
        "plt.subplot(324)\n",
        "plt.plot(df['Actual'].iloc[0:11], label='Actual')\n",
        "plt.plot(df['ridge'].iloc[0:11], label='Ridge')\n",
        "plt.legend()\n",
        "\n",
        "plt.subplot(325)\n",
        "plt.plot(df['Actual'].iloc[0:11], label='Actual')\n",
        "plt.plot(df['lasso'].iloc[0:11], label='lasso')\n",
        "plt.legend()\n",
        "\n",
        "plt.subplot(326)\n",
        "plt.plot(df['Actual'].iloc[0:11], label='Actual')\n",
        "plt.plot(df['rf'].iloc[0:11], label='rf')\n",
        "\n",
        "plt.tight_layout()\n",
        "plt.legend()"
      ],
      "metadata": {
        "colab": {
          "base_uri": "https://localhost:8080/",
          "height": 504
        },
        "id": "hSvNKO6hpAss",
        "outputId": "cb49021b-ad31-4140-8bf5-4e82b6eade8b"
      },
      "execution_count": null,
      "outputs": [
        {
          "output_type": "execute_result",
          "data": {
            "text/plain": [
              "<matplotlib.legend.Legend at 0x7f5066df30a0>"
            ]
          },
          "metadata": {},
          "execution_count": 171
        },
        {
          "output_type": "display_data",
          "data": {
            "text/plain": [
              "<Figure size 640x480 with 6 Axes>"
            ],
            "image/png": "[encoded data removed]"
          },
          "metadata": {}
        }
      ]
    },
    {
      "cell_type": "code",
      "source": [
        "# Finding mean absolute error\n",
        "s1 = metrics.mean_absolute_error(Y_test, Y_pred1)\n",
        "s2 = metrics.mean_absolute_error(Y_test, Y_pred2)\n",
        "s3 = metrics.mean_absolute_error(Y_test, Y_pred3)\n",
        "s4 = metrics.mean_absolute_error(Y_test, Y_pred4)\n",
        "s5 = metrics.mean_absolute_error(Y_test, Y_pred5)\n",
        "s6 = metrics.mean_absolute_error(Y_test, Y_pred6)\n",
        "print(s1, s2, s3, s4, s5, s6)"
      ],
      "metadata": {
        "colab": {
          "base_uri": "https://localhost:8080/"
        },
        "id": "OV0w7zF4thGn",
        "outputId": "05a384d4-c1b1-4e25-eeda-4fc75a2ca3c9"
      },
      "execution_count": null,
      "outputs": [
        {
          "output_type": "stream",
          "name": "stdout",
          "text": [
            "133594.75591551434 248043.9706503724 71052.79740163434 133773.07609631686 133595.3638467416 49348.095884618786\n"
          ]
        }
      ]
    },
    {
      "cell_type": "markdown",
      "source": [
        "**Building a Predictive System**"
      ],
      "metadata": {
        "id": "9ZLTNfJviqh4"
      }
    },
    {
      "cell_type": "code",
      "source": [
        "input_data = {'age':40,\n",
        "              'sex':1,\n",
        "              'bmi':40.3,\n",
        "              'smoker':1,\n",
        "              'region':2,\n",
        "              'children':4}\n",
        "\n",
        "df1 = pd.DataFrame(input_data, index=[0])\n",
        "print(df1)"
      ],
      "metadata": {
        "colab": {
          "base_uri": "https://localhost:8080/"
        },
        "id": "4w7mm6JMisvy",
        "outputId": "7d8ebd55-3394-466c-d2b6-4f0c978acf66"
      },
      "execution_count": null,
      "outputs": [
        {
          "output_type": "stream",
          "name": "stdout",
          "text": [
            "   age  sex   bmi  smoker  region  children\n",
            "0   40    1  40.3       1       2         4\n"
          ]
        }
      ]
    },
    {
      "cell_type": "code",
      "source": [
        "new_pred = Rf.predict(df1)\n",
        "print(new_pred)"
      ],
      "metadata": {
        "colab": {
          "base_uri": "https://localhost:8080/"
        },
        "id": "Z5fYOu0fu1p7",
        "outputId": "1d5a9c29-602e-4769-9999-3ad8989d0d69"
      },
      "execution_count": null,
      "outputs": [
        {
          "output_type": "stream",
          "name": "stdout",
          "text": [
            "[576145.11218934]\n"
          ]
        }
      ]
    },
    {
      "cell_type": "markdown",
      "source": [
        "**Save Model Using Joblib**"
      ],
      "metadata": {
        "id": "UaDGv0F2xzPV"
      }
    },
    {
      "cell_type": "code",
      "source": [
        "Rf = RandomForestRegressor()\n",
        "Rf.fit(X, Y)"
      ],
      "metadata": {
        "colab": {
          "base_uri": "https://localhost:8080/",
          "height": 74
        },
        "id": "H1xWpPpYxylH",
        "outputId": "db82cef2-663f-4eda-9196-926a8dbe2609"
      },
      "execution_count": null,
      "outputs": [
        {
          "output_type": "execute_result",
          "data": {
            "text/plain": [
              "RandomForestRegressor()"
            ],
            "text/html": [
              "<style>#sk-container-id-1 {color: black;background-color: white;}#sk-container-id-1 pre{padding: 0;}#sk-container-id-1 div.sk-toggleable {background-color: white;}#sk-container-id-1 label.sk-toggleable__label {cursor: pointer;display: block;width: 100%;margin-bottom: 0;padding: 0.3em;box-sizing: border-box;text-align: center;}#sk-container-id-1 label.sk-toggleable__label-arrow:before {content: \"▸\";float: left;margin-right: 0.25em;color: #696969;}#sk-container-id-1 label.sk-toggleable__label-arrow:hover:before {color: black;}#sk-container-id-1 div.sk-estimator:hover label.sk-toggleable__label-arrow:before {color: black;}#sk-container-id-1 div.sk-toggleable__content {max-height: 0;max-width: 0;overflow: hidden;text-align: left;background-color: #f0f8ff;}#sk-container-id-1 div.sk-toggleable__content pre {margin: 0.2em;color: black;border-radius: 0.25em;background-color: #f0f8ff;}#sk-container-id-1 input.sk-toggleable__control:checked~div.sk-toggleable__content {max-height: 200px;max-width: 100%;overflow: auto;}#sk-container-id-1 input.sk-toggleable__control:checked~label.sk-toggleable__label-arrow:before {content: \"▾\";}#sk-container-id-1 div.sk-estimator input.sk-toggleable__control:checked~label.sk-toggleable__label {background-color: #d4ebff;}#sk-container-id-1 div.sk-label input.sk-toggleable__control:checked~label.sk-toggleable__label {background-color: #d4ebff;}#sk-container-id-1 input.sk-hidden--visually {border: 0;clip: rect(1px 1px 1px 1px);clip: rect(1px, 1px, 1px, 1px);height: 1px;margin: -1px;overflow: hidden;padding: 0;position: absolute;width: 1px;}#sk-container-id-1 div.sk-estimator {font-family: monospace;background-color: #f0f8ff;border: 1px dotted black;border-radius: 0.25em;box-sizing: border-box;margin-bottom: 0.5em;}#sk-container-id-1 div.sk-estimator:hover {background-color: #d4ebff;}#sk-container-id-1 div.sk-parallel-item::after {content: \"\";width: 100%;border-bottom: 1px solid gray;flex-grow: 1;}#sk-container-id-1 div.sk-label:hover label.sk-toggleable__label {background-color: #d4ebff;}#sk-container-id-1 div.sk-serial::before {content: \"\";position: absolute;border-left: 1px solid gray;box-sizing: border-box;top: 0;bottom: 0;left: 50%;z-index: 0;}#sk-container-id-1 div.sk-serial {display: flex;flex-direction: column;align-items: center;background-color: white;padding-right: 0.2em;padding-left: 0.2em;position: relative;}#sk-container-id-1 div.sk-item {position: relative;z-index: 1;}#sk-container-id-1 div.sk-parallel {display: flex;align-items: stretch;justify-content: center;background-color: white;position: relative;}#sk-container-id-1 div.sk-item::before, #sk-container-id-1 div.sk-parallel-item::before {content: \"\";position: absolute;border-left: 1px solid gray;box-sizing: border-box;top: 0;bottom: 0;left: 50%;z-index: -1;}#sk-container-id-1 div.sk-parallel-item {display: flex;flex-direction: column;z-index: 1;position: relative;background-color: white;}#sk-container-id-1 div.sk-parallel-item:first-child::after {align-self: flex-end;width: 50%;}#sk-container-id-1 div.sk-parallel-item:last-child::after {align-self: flex-start;width: 50%;}#sk-container-id-1 div.sk-parallel-item:only-child::after {width: 0;}#sk-container-id-1 div.sk-dashed-wrapped {border: 1px dashed gray;margin: 0 0.4em 0.5em 0.4em;box-sizing: border-box;padding-bottom: 0.4em;background-color: white;}#sk-container-id-1 div.sk-label label {font-family: monospace;font-weight: bold;display: inline-block;line-height: 1.2em;}#sk-container-id-1 div.sk-label-container {text-align: center;}#sk-container-id-1 div.sk-container {/* jupyter's `normalize.less` sets `[hidden] { display: none; }` but bootstrap.min.css set `[hidden] { display: none !important; }` so we also need the `!important` here to be able to override the default hidden behavior on the sphinx rendered scikit-learn.org. See: https://github.com/scikit-learn/scikit-learn/issues/21755 */display: inline-block !important;position: relative;}#sk-container-id-1 div.sk-text-repr-fallback {display: none;}</style><div id=\"sk-container-id-1\" class=\"sk-top-container\"><div class=\"sk-text-repr-fallback\"><pre>RandomForestRegressor()</pre><b>In a Jupyter environment, please rerun this cell to show the HTML representation or trust the notebook. <br />On GitHub, the HTML representation is unable to render, please try loading this page with nbviewer.org.</b></div><div class=\"sk-container\" hidden><div class=\"sk-item\"><div class=\"sk-estimator sk-toggleable\"><input class=\"sk-toggleable__control sk-hidden--visually\" id=\"sk-estimator-id-1\" type=\"checkbox\" checked><label for=\"sk-estimator-id-1\" class=\"sk-toggleable__label sk-toggleable__label-arrow\">RandomForestRegressor</label><div class=\"sk-toggleable__content\"><pre>RandomForestRegressor()</pre></div></div></div></div></div>"
            ]
          },
          "metadata": {},
          "execution_count": 185
        }
      ]
    },
    {
      "cell_type": "code",
      "source": [
        "import joblib\n",
        "joblib.dump(gr, 'model_joblib_Rf')"
      ],
      "metadata": {
        "colab": {
          "base_uri": "https://localhost:8080/"
        },
        "id": "77nPrstIyM-A",
        "outputId": "e9711c03-db80-4ff5-e49a-3634ad9eb957"
      },
      "execution_count": null,
      "outputs": [
        {
          "output_type": "execute_result",
          "data": {
            "text/plain": [
              "['model_joblib_Rf']"
            ]
          },
          "metadata": {},
          "execution_count": 186
        }
      ]
    },
    {
      "cell_type": "code",
      "source": [
        "model = joblib.load('model_joblib_Rf')"
      ],
      "metadata": {
        "id": "zCIYXpRVycaP"
      },
      "execution_count": null,
      "outputs": []
    },
    {
      "cell_type": "code",
      "source": [
        "model.predict(df1)"
      ],
      "metadata": {
        "colab": {
          "base_uri": "https://localhost:8080/"
        },
        "id": "PJzFgYiQyi4j",
        "outputId": "1c3825e4-f07e-48c0-c0a1-44b066450a48"
      },
      "execution_count": null,
      "outputs": [
        {
          "output_type": "execute_result",
          "data": {
            "text/plain": [
              "array([566205.60193249])"
            ]
          },
          "metadata": {},
          "execution_count": 192
        }
      ]
    }
  ]
}